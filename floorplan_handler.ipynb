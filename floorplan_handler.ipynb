{
 "cells": [
  {
   "cell_type": "code",
   "execution_count": 21,
   "metadata": {},
   "outputs": [],
   "source": [
    "import pytesseract"
   ]
  },
  {
   "cell_type": "code",
   "execution_count": null,
   "metadata": {},
   "outputs": [],
   "source": []
  },
  {
   "cell_type": "code",
   "execution_count": 9,
   "metadata": {},
   "outputs": [],
   "source": [
    "pytesseract.pytesseract.tesseract_cmd = r'/usr/local/bin/tesseract'"
   ]
  },
  {
   "cell_type": "code",
   "execution_count": 41,
   "metadata": {},
   "outputs": [],
   "source": [
    "floorplan_text = pytesseract.image_to_string('plans/floorplan_01.jpeg')"
   ]
  },
  {
   "cell_type": "code",
   "execution_count": 45,
   "metadata": {},
   "outputs": [],
   "source": [
    "floorplan_text_up = floorplan_text.upper()"
   ]
  },
  {
   "cell_type": "code",
   "execution_count": 25,
   "metadata": {},
   "outputs": [],
   "source": [
    "rooms_set = {\"BEDROOM 1\", \"BEDROOM 2\"}"
   ]
  },
  {
   "cell_type": "code",
   "execution_count": 39,
   "metadata": {},
   "outputs": [],
   "source": [
    "rooms = []\n",
    "side_a = []\n",
    "sibe_b = []\n",
    "size = []"
   ]
  },
  {
   "cell_type": "code",
   "execution_count": 48,
   "metadata": {},
   "outputs": [],
   "source": [
    "for room in rooms_set:\n",
    "    position = floorplan_text_up.find(room)\n",
    "    if position != -1:\n",
    "        # removes the room from the text so it doesn't bother us\n",
    "        floorplan_text_up = floorplan_text_up[:position] + floorplan_text_up[position + len(room):]\n",
    "        rooms.append(room)\n",
    "        # find the next m pair"
   ]
  },
  {
   "cell_type": "code",
   "execution_count": 47,
   "metadata": {},
   "outputs": [
    {
     "data": {
      "text/plain": [
       "\" \\n\\n  \\n     \\n   \\n    \\n\\n  \\n\\nDINING ROOM KITCHEN\\n2.74M X 2.56M 3.24M X 2.72M\\n9'0 X 8'5 10'8 X 8'11\\n\\n   \\n\\n  \\n\\nUTILITY ROOM\\n1.96M X 1.50M\\n6'5 X 4'11\\n\\n  \\n     \\n\\nLIVING ROOM\\n4.18M X 3.51M\\n13'9 X 116\\n\\nGROUND FLOOR\\nAPPROX. FLOOR\\nAREA 37.46 SQ.M.\\n(403 SQ.FT.)\\n\\n \\n\\n\\n3.45M X 2.72M\\n11'4 X 8'11\\n\\n\\n3.62M X 3.42M\\n\\n41'11X 113 BEDROOM 3\\n\\n2.71M X 2.37M\\n811X7'9\\n\\n \\n\\nFIRST FLOOR\\nAPPROX. FLOOR\\nAREA 37.46 SQ.M.\\n(403 SQ.FT.)\\n\\nTOTAL APPROX. FLOOR AREA 74.92 SQ.M. (806 SQ.FT.)\\n\\n \\n\\x0c\""
      ]
     },
     "execution_count": 47,
     "metadata": {},
     "output_type": "execute_result"
    }
   ],
   "source": [
    "floorplan_text_up"
   ]
  },
  {
   "cell_type": "code",
   "execution_count": null,
   "metadata": {},
   "outputs": [],
   "source": []
  },
  {
   "cell_type": "code",
   "execution_count": null,
   "metadata": {},
   "outputs": [],
   "source": []
  }
 ],
 "metadata": {
  "kernelspec": {
   "display_name": "Python 3",
   "language": "python",
   "name": "python3"
  },
  "language_info": {
   "codemirror_mode": {
    "name": "ipython",
    "version": 3
   },
   "file_extension": ".py",
   "mimetype": "text/x-python",
   "name": "python",
   "nbconvert_exporter": "python",
   "pygments_lexer": "ipython3",
   "version": "3.7.4"
  },
  "toc": {
   "base_numbering": 1,
   "nav_menu": {},
   "number_sections": true,
   "sideBar": true,
   "skip_h1_title": false,
   "title_cell": "Table of Contents",
   "title_sidebar": "Contents",
   "toc_cell": false,
   "toc_position": {},
   "toc_section_display": true,
   "toc_window_display": false
  },
  "varInspector": {
   "cols": {
    "lenName": 16,
    "lenType": 16,
    "lenVar": 40
   },
   "kernels_config": {
    "python": {
     "delete_cmd_postfix": "",
     "delete_cmd_prefix": "del ",
     "library": "var_list.py",
     "varRefreshCmd": "print(var_dic_list())"
    },
    "r": {
     "delete_cmd_postfix": ") ",
     "delete_cmd_prefix": "rm(",
     "library": "var_list.r",
     "varRefreshCmd": "cat(var_dic_list()) "
    }
   },
   "types_to_exclude": [
    "module",
    "function",
    "builtin_function_or_method",
    "instance",
    "_Feature"
   ],
   "window_display": false
  }
 },
 "nbformat": 4,
 "nbformat_minor": 2
}
